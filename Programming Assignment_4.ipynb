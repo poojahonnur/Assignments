{
 "cells": [
  {
   "cell_type": "markdown",
   "id": "ff7bf7f8",
   "metadata": {},
   "source": [
    "# 1. Write a Python Program to Find the Factorial of a Number?"
   ]
  },
  {
   "cell_type": "code",
   "execution_count": 4,
   "id": "c9bbde33",
   "metadata": {},
   "outputs": [
    {
     "name": "stdout",
     "output_type": "stream",
     "text": [
      "Factorial of 5 is 120\n"
     ]
    }
   ],
   "source": [
    "def factorial(n):\n",
    "    return 1 if (n==1 or n==0) else n * factorial(n - 1);\n",
    "num = 5;\n",
    "print(\"Factorial of\",num,\"is\",factorial(num))"
   ]
  },
  {
   "cell_type": "markdown",
   "id": "7c47c444",
   "metadata": {},
   "source": [
    "# 2. Write a Python Program to Display the multiplication Table?"
   ]
  },
  {
   "cell_type": "code",
   "execution_count": 5,
   "id": "06edd3ad",
   "metadata": {},
   "outputs": [
    {
     "name": "stdout",
     "output_type": "stream",
     "text": [
      "12 x 1 = 12\n",
      "12 x 2 = 24\n",
      "12 x 3 = 36\n",
      "12 x 4 = 48\n",
      "12 x 5 = 60\n",
      "12 x 6 = 72\n",
      "12 x 7 = 84\n",
      "12 x 8 = 96\n",
      "12 x 9 = 108\n",
      "12 x 10 = 120\n"
     ]
    }
   ],
   "source": [
    "num=12\n",
    "for i in range(1, 11):\n",
    "   print(num, 'x', i, '=', num*i)\n"
   ]
  },
  {
   "cell_type": "markdown",
   "id": "addf2ffe",
   "metadata": {},
   "source": [
    "# 3. Write a Python Program to Print the Fibonacci sequence?"
   ]
  },
  {
   "cell_type": "code",
   "execution_count": 7,
   "id": "cf4991f7",
   "metadata": {},
   "outputs": [
    {
     "name": "stdout",
     "output_type": "stream",
     "text": [
      "How many terms? 4\n",
      "Fibonacci sequence:\n",
      "0\n",
      "1\n",
      "1\n",
      "2\n"
     ]
    }
   ],
   "source": [
    "nterms = int(input(\"How many terms? \"))\n",
    "n1, n2 = 0, 1\n",
    "count = 0\n",
    "if nterms <= 0:\n",
    "   print(\"Please enter a positive integer\")\n",
    "elif nterms == 1:\n",
    "   print(\"Fibonacci sequence upto\",nterms,\":\")\n",
    "   print(n1)\n",
    "else:\n",
    "   print(\"Fibonacci sequence:\")\n",
    "   while count < nterms:\n",
    "       print(n1)\n",
    "       nth = n1 + n2\n",
    "       n1 = n2\n",
    "       n2 = nth\n",
    "       count += 1"
   ]
  },
  {
   "cell_type": "markdown",
   "id": "995a8e33",
   "metadata": {},
   "source": [
    "# 4. Write a Python Program to Check Armstrong Number?"
   ]
  },
  {
   "cell_type": "code",
   "execution_count": 9,
   "id": "29f02e04",
   "metadata": {},
   "outputs": [
    {
     "name": "stdout",
     "output_type": "stream",
     "text": [
      "Enter a number: 45\n",
      "45 is not an Armstrong number\n"
     ]
    }
   ],
   "source": [
    "num = int(input(\"Enter a number: \"))\n",
    "sum = 0\n",
    "temp = num\n",
    "while temp > 0:\n",
    "   digit = temp % 10\n",
    "   sum += digit ** 3\n",
    "   temp //= 10\n",
    "if num == sum:\n",
    "   print(num,\"is an Armstrong number\")\n",
    "else:\n",
    "   print(num,\"is not an Armstrong number\")\n"
   ]
  },
  {
   "cell_type": "markdown",
   "id": "8ea3b937",
   "metadata": {},
   "source": [
    "# 5. Write a Python Program to Find Armstrong Number in an Interval?"
   ]
  },
  {
   "cell_type": "code",
   "execution_count": 12,
   "id": "24f9d772",
   "metadata": {},
   "outputs": [
    {
     "name": "stdout",
     "output_type": "stream",
     "text": [
      "1 is an Armstrong number\n",
      "2 is not an Armstrong number\n",
      "3 is not an Armstrong number\n",
      "4 is not an Armstrong number\n",
      "5 is not an Armstrong number\n",
      "6 is not an Armstrong number\n",
      "7 is not an Armstrong number\n",
      "8 is not an Armstrong number\n",
      "9 is not an Armstrong number\n",
      "10 is not an Armstrong number\n"
     ]
    }
   ],
   "source": [
    "sum = 0\n",
    "temp = num\n",
    "for num in range(1,10+1):\n",
    "    temp=num\n",
    "    while temp > 0:\n",
    "       digit = temp % 10\n",
    "       sum += digit ** 3\n",
    "       temp //= 10\n",
    "    if num == sum:\n",
    "       print(num,\"is an Armstrong number\")\n",
    "    else:\n",
    "       print(num,\"is not an Armstrong number\")\n"
   ]
  },
  {
   "cell_type": "markdown",
   "id": "ac912cb9",
   "metadata": {},
   "source": [
    "# 6. Write a Python Program to Find the Sum of Natural Numbers?"
   ]
  },
  {
   "cell_type": "code",
   "execution_count": 13,
   "id": "97ceb72f",
   "metadata": {},
   "outputs": [
    {
     "name": "stdout",
     "output_type": "stream",
     "text": [
      "The sum is 136\n"
     ]
    }
   ],
   "source": [
    "num = 16\n",
    "\n",
    "if num < 0:\n",
    "   print(\"Enter a positive number\")\n",
    "else:\n",
    "   sum = 0\n",
    "   while(num > 0):\n",
    "       sum += num\n",
    "       num -= 1\n",
    "   print(\"The sum is\", sum)\n"
   ]
  }
 ],
 "metadata": {
  "kernelspec": {
   "display_name": "Python 3",
   "language": "python",
   "name": "python3"
  },
  "language_info": {
   "codemirror_mode": {
    "name": "ipython",
    "version": 3
   },
   "file_extension": ".py",
   "mimetype": "text/x-python",
   "name": "python",
   "nbconvert_exporter": "python",
   "pygments_lexer": "ipython3",
   "version": "3.8.8"
  }
 },
 "nbformat": 4,
 "nbformat_minor": 5
}
