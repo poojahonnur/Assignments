{
 "cells": [
  {
   "cell_type": "markdown",
   "id": "4bc00f27",
   "metadata": {},
   "source": [
    "# 1. Write a Python program to print \"Hello Python\"?\n"
   ]
  },
  {
   "cell_type": "code",
   "execution_count": 4,
   "id": "2316c2b1",
   "metadata": {},
   "outputs": [
    {
     "name": "stdout",
     "output_type": "stream",
     "text": [
      "Hello Python\n"
     ]
    }
   ],
   "source": [
    "print(\"Hello Python\")"
   ]
  },
  {
   "cell_type": "markdown",
   "id": "c4fbc36f",
   "metadata": {},
   "source": [
    "# 2. Write a Python program to do arithmetical operations addition and division.?"
   ]
  },
  {
   "cell_type": "code",
   "execution_count": 6,
   "id": "2718eb90",
   "metadata": {},
   "outputs": [
    {
     "name": "stdout",
     "output_type": "stream",
     "text": [
      "addition= 30\n",
      "division= 0.5\n"
     ]
    }
   ],
   "source": [
    "a=10\n",
    "b=20\n",
    "print(\"addition=\",a+b)\n",
    "print(\"division=\",a/b)"
   ]
  },
  {
   "cell_type": "markdown",
   "id": "468e396c",
   "metadata": {},
   "source": [
    "# 3. Write a Python program to find the area of a triangle?"
   ]
  },
  {
   "cell_type": "code",
   "execution_count": 7,
   "id": "aaddeda3",
   "metadata": {},
   "outputs": [
    {
     "name": "stdout",
     "output_type": "stream",
     "text": [
      "Area= 100.0\n"
     ]
    }
   ],
   "source": [
    "breadth=10\n",
    "height=20\n",
    "Area=0.5*breadth*height\n",
    "print(\"Area=\",Area)"
   ]
  },
  {
   "cell_type": "markdown",
   "id": "ee4b0fe8",
   "metadata": {},
   "source": [
    "# 4. Write a Python program to swap two variables?"
   ]
  },
  {
   "cell_type": "code",
   "execution_count": 24,
   "id": "8f3efe8b",
   "metadata": {},
   "outputs": [
    {
     "name": "stdout",
     "output_type": "stream",
     "text": [
      "Before Swapping\t a= 10 b= 20\n",
      "After Swapping\t a= 20 b= 10\n"
     ]
    }
   ],
   "source": [
    "a=10\n",
    "b=20\n",
    "c=0\n",
    "print(\"Before Swapping\\t a=\",a,\"b=\",b)\n",
    "c=a\n",
    "a=b\n",
    "b=c\n",
    "print(\"After Swapping\\t a=\",a,\"b=\",b)"
   ]
  },
  {
   "cell_type": "markdown",
   "id": "99e125dc",
   "metadata": {},
   "source": [
    "# 5. Write a Python program to generate a random number?"
   ]
  },
  {
   "cell_type": "code",
   "execution_count": 33,
   "id": "c0fc30ae",
   "metadata": {},
   "outputs": [
    {
     "name": "stdout",
     "output_type": "stream",
     "text": [
      "81\n"
     ]
    }
   ],
   "source": [
    "import numpy as np\n",
    "random_number=np.random.randint(100)\n",
    "print(random_number)"
   ]
  }
 ],
 "metadata": {
  "kernelspec": {
   "display_name": "Python 3",
   "language": "python",
   "name": "python3"
  },
  "language_info": {
   "codemirror_mode": {
    "name": "ipython",
    "version": 3
   },
   "file_extension": ".py",
   "mimetype": "text/x-python",
   "name": "python",
   "nbconvert_exporter": "python",
   "pygments_lexer": "ipython3",
   "version": "3.8.8"
  }
 },
 "nbformat": 4,
 "nbformat_minor": 5
}
